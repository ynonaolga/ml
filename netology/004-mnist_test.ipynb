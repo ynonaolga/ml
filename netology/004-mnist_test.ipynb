{
 "cells": [
  {
   "cell_type": "code",
   "execution_count": 17,
   "metadata": {},
   "outputs": [],
   "source": [
    "%matplotlib inline\n",
    "import cv2\n",
    "import keras\n",
    "import numpy as np\n",
    "import matplotlib.pyplot as plt\n",
    "from sklearn.metrics import accuracy_score\n",
    "import time\n",
    "from keras.utils import np_utils"
   ]
  },
  {
   "cell_type": "code",
   "execution_count": 3,
   "metadata": {
    "collapsed": true
   },
   "outputs": [],
   "source": [
    "train = np.loadtxt('../../002/data/digit/train.csv', delimiter=',', skiprows=1)\n",
    "test = np.loadtxt('../../002/data/digit/test.csv', delimiter=',', skiprows=1)"
   ]
  },
  {
   "cell_type": "code",
   "execution_count": 99,
   "metadata": {
    "collapsed": true
   },
   "outputs": [],
   "source": [
    "# сохраняем разметку в отдельную переменную\n",
    "train_label = train[:, 0]\n",
    "# приводим размерность к удобному для обаботки виду\n",
    "train_img = np.resize(train[:, 1:], (train.shape[0], 28, 28))\n",
    "test_img = np.resize(test, (test.shape[0], 28, 28))"
   ]
  },
  {
   "cell_type": "code",
   "execution_count": 96,
   "metadata": {},
   "outputs": [
    {
     "name": "stdout",
     "output_type": "stream",
     "text": [
      "(28, 28)\n"
     ]
    },
    {
     "data": {
      "image/png": "[encoded data removed]",
      "text/plain": [
       "<matplotlib.figure.Figure at 0x193cecf8>"
      ]
     },
     "metadata": {},
     "output_type": "display_data"
    }
   ],
   "source": [
    "img = train_img[0]\n",
    "img_r = img.shape[0]\n",
    "img_c = img.shape[1]\n",
    "train_img_moved = img\n",
    "train_img_moved = np.zeros((img_r,img_c))\n",
    "train_img_moved[:,0:img_c-3] = img[:,3:img_c]\n",
    "print(train_img_moved.shape)\n",
    "fig = plt.figure(figsize=(20, 10))\n",
    "subplot = fig.add_subplot(1, 7, 1)\n",
    "plt.imshow(img, cmap='gray');\n",
    "subplot = fig.add_subplot(1, 7, 2)\n",
    "plt.imshow(train_img_moved, cmap='gray');"
   ]
  },
  {
   "cell_type": "code",
   "execution_count": 100,
   "metadata": {},
   "outputs": [],
   "source": [
    "def move_img_right(img):\n",
    "    img_r = img.shape[0]\n",
    "    img_c = img.shape[1]\n",
    "    img_moved = img\n",
    "    img_moved = np.zeros((img_r,img_c))\n",
    "    img_moved[:,3:] = img[:,0:img_c-3]\n",
    "    return img_moved \n",
    "def move_img_left(img):\n",
    "    img_r = img.shape[0]\n",
    "    img_c = img.shape[1]\n",
    "    img_moved = img\n",
    "    img_moved = np.zeros((img_r,img_c))\n",
    "    img_moved[:,0:img_c-3] = img[:,3:img_c]\n",
    "    return img_moved \n",
    "moved_imges = []\n",
    "for i, img in enumerate(train_img):\n",
    "    img_moved = move_img_right(img)\n",
    "    moved_imges.append(img_moved)\n",
    "train_img = np.append(train_img, moved_imges, axis=0)\n",
    "train_label = np.append(train_label, train_label)\n",
    "moved_imges = []\n",
    "for i, img in enumerate(train_img[0:42000]):\n",
    "    img_moved = move_img_left(img)\n",
    "    moved_imges.append(img_moved)\n",
    "train_img = np.append(train_img, moved_imges, axis=0)\n",
    "train_label = np.append(train_label, train_label[0:42000])"
   ]
  },
  {
   "cell_type": "code",
   "execution_count": 107,
   "metadata": {},
   "outputs": [
    {
     "data": {
      "text/plain": [
       "(126000, 28, 28)"
      ]
     },
     "execution_count": 107,
     "metadata": {},
     "output_type": "execute_result"
    }
   ],
   "source": [
    "train_label.shape\n",
    "train_img.shape"
   ]
  },
  {
   "cell_type": "markdown",
   "metadata": {},
   "source": [
    "## Визуализируем исходные данные"
   ]
  },
  {
   "cell_type": "code",
   "execution_count": 62,
   "metadata": {},
   "outputs": [
    {
     "data": {
      "image/png": "[encoded data removed]",
      "text/plain": [
       "<matplotlib.figure.Figure at 0x14228240>"
      ]
     },
     "metadata": {},
     "output_type": "display_data"
    }
   ],
   "source": [
    "fig = plt.figure(figsize=(20, 10))\n",
    "for i, img in enumerate(train_img[0:5], 1):\n",
    "    subplot = fig.add_subplot(1, 7, i)\n",
    "    plt.imshow(img, cmap='gray');\n",
    "    subplot.set_title('%s' % train_label[i - 1]);"
   ]
  },
  {
   "cell_type": "markdown",
   "metadata": {},
   "source": [
    "## Вычисляем X и Y составляющие градиента с помощью оператора Собеля"
   ]
  },
  {
   "cell_type": "code",
   "execution_count": 102,
   "metadata": {
    "collapsed": true
   },
   "outputs": [],
   "source": [
    "train_sobel_x = np.zeros_like(train_img)\n",
    "train_sobel_y = np.zeros_like(train_img)\n",
    "for i in range(len(train_img)):\n",
    "    train_sobel_x[i] = cv2.Sobel(train_img[i], cv2.CV_64F, dx=1, dy=0, ksize=3)\n",
    "    train_sobel_y[i] = cv2.Sobel(train_img[i], cv2.CV_64F, dx=0, dy=1, ksize=3)\n",
    "\n",
    "test_sobel_x = np.zeros_like(test_img)\n",
    "test_sobel_y = np.zeros_like(test_img)\n",
    "for i in range(len(test_img)):\n",
    "    test_sobel_x[i] = cv2.Sobel(test_img[i], cv2.CV_64F, dx=1, dy=0, ksize=3)\n",
    "    test_sobel_y[i] = cv2.Sobel(test_img[i], cv2.CV_64F, dx=0, dy=1, ksize=3)"
   ]
  },
  {
   "cell_type": "markdown",
   "metadata": {},
   "source": [
    "## Вычисляем угол и длину вектора градиента"
   ]
  },
  {
   "cell_type": "code",
   "execution_count": 103,
   "metadata": {
    "collapsed": true
   },
   "outputs": [],
   "source": [
    "train_g, train_theta = cv2.cartToPolar(train_sobel_x, train_sobel_y)\n",
    "test_g, test_theta = cv2.cartToPolar(test_sobel_x, test_sobel_y)"
   ]
  },
  {
   "cell_type": "code",
   "execution_count": 65,
   "metadata": {},
   "outputs": [
    {
     "data": {
      "image/png": "[encoded data removed]",
      "text/plain": [
       "<matplotlib.figure.Figure at 0x15213828>"
      ]
     },
     "metadata": {},
     "output_type": "display_data"
    }
   ],
   "source": [
    "fig = plt.figure(figsize=(20, 10))\n",
    "for i, img in enumerate(train_g[:5], 1):\n",
    "    subplot = fig.add_subplot(1, 7, i)\n",
    "    plt.imshow(img, cmap='gray');\n",
    "    subplot.set_title('%s' % train_label[i - 1]);\n",
    "    subplot = fig.add_subplot(3, 7, i)\n",
    "    plt.hist(train_theta[i - 1].flatten(),\n",
    "             bins=16, weights=train_g[i - 1].flatten())"
   ]
  },
  {
   "cell_type": "markdown",
   "metadata": {},
   "source": [
    "## Вычисляем гистограммы градиентов"
   ]
  },
  {
   "cell_type": "code",
   "execution_count": 108,
   "metadata": {},
   "outputs": [],
   "source": [
    "def divide_arr_in_four(arr):\n",
    "    shape = arr.shape\n",
    "    arr_divided = [arr[0:int(shape[0]/2), 0:int(shape[1]/2)],\n",
    "                        arr[int(shape[0]/2 + 1):shape[0], 0:int(shape[1]/2)],\n",
    "                        arr[0:int(shape[0]/2), int(shape[1]/2 + 1):shape[1]],\n",
    "                        arr[int(shape[0]/2 + 1):shape[0], int(shape[1]/2+1):shape[1]]]\n",
    "    return arr_divided\n",
    "def convert_to_hist(img, theta, g, hist_bins,  norm):\n",
    "    hists = np.zeros((len(img), 4*hist_bins))\n",
    "    theta_normed = theta\n",
    "    \n",
    "    for i in range(len(img)):\n",
    "        theta_divided = divide_arr_in_four(theta_normed[i])\n",
    "        g_divided = divide_arr_in_four(g[i])\n",
    "        hist_stacked = []\n",
    "        for j in range(len(theta_divided)):\n",
    "            hist, borders = np.histogram(theta_divided[j],\n",
    "                                 bins=hist_bins,\n",
    "                                 range=(0., 2. * np.pi),\n",
    "                                 weights=g_divided[j])\n",
    "            hist_stacked.extend(hist)\n",
    "        hists[i] = hist_stacked\n",
    "    # По умолчанию используется L2 норма\n",
    "    if norm:\n",
    "        hists = hists / np.linalg.norm(hists, axis=1)[:, None]\n",
    "    return hists\n",
    "\n",
    "best_hist_bin = 25\n",
    "best_norm = True\n",
    "\n",
    "train_hist = convert_to_hist(train_img, train_theta, train_g, best_hist_bin, best_norm)\n",
    "test_hist = convert_to_hist(test_img, test_theta, test_g, best_hist_bin,  best_norm)\n",
    "y_train, y_val, x_train, x_val = train_test_split(train_label, train_hist, test_size=0.2)"
   ]
  },
  {
   "cell_type": "code",
   "execution_count": 109,
   "metadata": {},
   "outputs": [
    {
     "name": "stdout",
     "output_type": "stream",
     "text": [
      "Epoch 1/100\n",
      "100800/100800 [==============================] - 43s - loss: 0.3331 - acc: 0.8938    \n",
      "Epoch 2/100\n",
      "100800/100800 [==============================] - 5s - loss: 0.1618 - acc: 0.9471     \n",
      "Epoch 3/100\n",
      "100800/100800 [==============================] - 5s - loss: 0.1255 - acc: 0.9582     \n",
      "Epoch 4/100\n",
      "100800/100800 [==============================] - 5s - loss: 0.1026 - acc: 0.9661     \n",
      "Epoch 5/100\n",
      "100800/100800 [==============================] - 5s - loss: 0.0880 - acc: 0.9704     \n",
      "Epoch 6/100\n",
      "100800/100800 [==============================] - 5s - loss: 0.0748 - acc: 0.9743     \n",
      "Epoch 7/100\n",
      "100800/100800 [==============================] - 5s - loss: 0.0647 - acc: 0.9781     \n",
      "Epoch 8/100\n",
      "100800/100800 [==============================] - 5s - loss: 0.0579 - acc: 0.9800     \n",
      "Epoch 9/100\n",
      "100800/100800 [==============================] - 5s - loss: 0.0505 - acc: 0.9828     \n",
      "Epoch 10/100\n",
      "100800/100800 [==============================] - 5s - loss: 0.0449 - acc: 0.9842     \n",
      "Epoch 11/100\n",
      "100800/100800 [==============================] - 5s - loss: 0.0398 - acc: 0.9860     \n",
      "Epoch 12/100\n",
      "100800/100800 [==============================] - 5s - loss: 0.0356 - acc: 0.9876     \n",
      "Epoch 13/100\n",
      "100800/100800 [==============================] - 5s - loss: 0.0328 - acc: 0.9886     \n",
      "Epoch 14/100\n",
      "100800/100800 [==============================] - 5s - loss: 0.0299 - acc: 0.9894     \n",
      "Epoch 15/100\n",
      "100800/100800 [==============================] - 6s - loss: 0.0268 - acc: 0.9905     \n",
      "Epoch 16/100\n",
      "100800/100800 [==============================] - 5s - loss: 0.0251 - acc: 0.9911     \n",
      "Epoch 17/100\n",
      "100800/100800 [==============================] - 5s - loss: 0.0241 - acc: 0.9914     \n",
      "Epoch 18/100\n",
      "100800/100800 [==============================] - 5s - loss: 0.0211 - acc: 0.9928     \n",
      "Epoch 19/100\n",
      "100800/100800 [==============================] - 5s - loss: 0.0208 - acc: 0.9928     \n",
      "Epoch 20/100\n",
      "100800/100800 [==============================] - 5s - loss: 0.0192 - acc: 0.9933     \n",
      "Epoch 21/100\n",
      "100800/100800 [==============================] - 5s - loss: 0.0186 - acc: 0.9935     \n",
      "Epoch 22/100\n",
      "100800/100800 [==============================] - 5s - loss: 0.0170 - acc: 0.9940     \n",
      "Epoch 23/100\n",
      "100800/100800 [==============================] - 5s - loss: 0.0164 - acc: 0.9943     \n",
      "Epoch 24/100\n",
      "100800/100800 [==============================] - 5s - loss: 0.0159 - acc: 0.9945     \n",
      "Epoch 25/100\n",
      "100800/100800 [==============================] - 5s - loss: 0.0156 - acc: 0.9944     \n",
      "Epoch 26/100\n",
      "100800/100800 [==============================] - 5s - loss: 0.0138 - acc: 0.9951     \n",
      "Epoch 27/100\n",
      "100800/100800 [==============================] - 5s - loss: 0.0141 - acc: 0.9950     \n",
      "Epoch 28/100\n",
      "100800/100800 [==============================] - 5s - loss: 0.0143 - acc: 0.9952     \n",
      "Epoch 29/100\n",
      "100800/100800 [==============================] - 5s - loss: 0.0128 - acc: 0.9956     \n",
      "Epoch 30/100\n",
      "100800/100800 [==============================] - 5s - loss: 0.0136 - acc: 0.9953     \n",
      "Epoch 31/100\n",
      "100800/100800 [==============================] - 5s - loss: 0.0121 - acc: 0.9959     \n",
      "Epoch 32/100\n",
      "100800/100800 [==============================] - 5s - loss: 0.0126 - acc: 0.9955     \n",
      "Epoch 33/100\n",
      "100800/100800 [==============================] - 5s - loss: 0.0129 - acc: 0.9956     \n",
      "Epoch 34/100\n",
      "100800/100800 [==============================] - 5s - loss: 0.0106 - acc: 0.9964     \n",
      "Epoch 35/100\n",
      "100800/100800 [==============================] - 5s - loss: 0.0118 - acc: 0.9960     \n",
      "Epoch 36/100\n",
      "100800/100800 [==============================] - 5s - loss: 0.0111 - acc: 0.9963     \n",
      "Epoch 37/100\n",
      "100800/100800 [==============================] - 5s - loss: 0.0111 - acc: 0.9963     \n",
      "Epoch 38/100\n",
      "100800/100800 [==============================] - 5s - loss: 0.0090 - acc: 0.9969     \n",
      "Epoch 39/100\n",
      "100800/100800 [==============================] - 5s - loss: 0.0114 - acc: 0.9964     \n",
      "Epoch 40/100\n",
      "100800/100800 [==============================] - 5s - loss: 0.0102 - acc: 0.9967     \n",
      "Epoch 41/100\n",
      "100800/100800 [==============================] - 5s - loss: 0.0091 - acc: 0.9970     \n",
      "Epoch 42/100\n",
      "100800/100800 [==============================] - 5s - loss: 0.0103 - acc: 0.9968     \n",
      "Epoch 43/100\n",
      "100800/100800 [==============================] - 5s - loss: 0.0092 - acc: 0.9969     \n",
      "Epoch 44/100\n",
      "100800/100800 [==============================] - 5s - loss: 0.0089 - acc: 0.9971     \n",
      "Epoch 45/100\n",
      "100800/100800 [==============================] - 5s - loss: 0.0095 - acc: 0.9969     \n",
      "Epoch 46/100\n",
      "100800/100800 [==============================] - 5s - loss: 0.0085 - acc: 0.9972     \n",
      "Epoch 47/100\n",
      "100800/100800 [==============================] - 5s - loss: 0.0090 - acc: 0.9969     \n",
      "Epoch 48/100\n",
      "100800/100800 [==============================] - 5s - loss: 0.0093 - acc: 0.9969     \n",
      "Epoch 49/100\n",
      "100800/100800 [==============================] - 5s - loss: 0.0088 - acc: 0.9971     \n",
      "Epoch 50/100\n",
      "100800/100800 [==============================] - 5s - loss: 0.0083 - acc: 0.9972     \n",
      "Epoch 51/100\n",
      "100800/100800 [==============================] - 5s - loss: 0.0083 - acc: 0.9973     \n",
      "Epoch 52/100\n",
      "100800/100800 [==============================] - 5s - loss: 0.0081 - acc: 0.9975     \n",
      "Epoch 53/100\n",
      "100800/100800 [==============================] - 5s - loss: 0.0071 - acc: 0.9978     \n",
      "Epoch 54/100\n",
      "100800/100800 [==============================] - 5s - loss: 0.0085 - acc: 0.9973     \n",
      "Epoch 55/100\n",
      "100800/100800 [==============================] - 5s - loss: 0.0082 - acc: 0.9973     \n",
      "Epoch 56/100\n",
      "100800/100800 [==============================] - 5s - loss: 0.0081 - acc: 0.9975     \n",
      "Epoch 57/100\n",
      "100800/100800 [==============================] - 5s - loss: 0.0077 - acc: 0.9975     \n",
      "Epoch 58/100\n",
      "100800/100800 [==============================] - 5s - loss: 0.0081 - acc: 0.9975     \n",
      "Epoch 59/100\n",
      "100800/100800 [==============================] - 5s - loss: 0.0079 - acc: 0.9975     \n",
      "Epoch 60/100\n",
      "100800/100800 [==============================] - 5s - loss: 0.0071 - acc: 0.9979     \n",
      "Epoch 61/100\n",
      "100800/100800 [==============================] - 5s - loss: 0.0069 - acc: 0.9977     \n",
      "Epoch 62/100\n",
      "100800/100800 [==============================] - 6s - loss: 0.0085 - acc: 0.9973     \n",
      "Epoch 63/100\n",
      "100800/100800 [==============================] - 5s - loss: 0.0072 - acc: 0.9977     \n",
      "Epoch 64/100\n",
      "100800/100800 [==============================] - 5s - loss: 0.0064 - acc: 0.9983     \n",
      "Epoch 65/100\n",
      "100800/100800 [==============================] - 5s - loss: 0.0060 - acc: 0.9980     \n",
      "Epoch 66/100\n",
      "100800/100800 [==============================] - 5s - loss: 0.0085 - acc: 0.9974     \n",
      "Epoch 67/100\n",
      "100800/100800 [==============================] - 5s - loss: 0.0076 - acc: 0.9975     \n",
      "Epoch 68/100\n",
      "100800/100800 [==============================] - 5s - loss: 0.0070 - acc: 0.9979     \n",
      "Epoch 69/100\n",
      "100800/100800 [==============================] - 5s - loss: 0.0065 - acc: 0.9981     \n",
      "Epoch 70/100\n",
      "100800/100800 [==============================] - 5s - loss: 0.0069 - acc: 0.9979     \n",
      "Epoch 71/100\n",
      "100800/100800 [==============================] - 5s - loss: 0.0073 - acc: 0.9978     \n",
      "Epoch 72/100\n",
      "100800/100800 [==============================] - 5s - loss: 0.0055 - acc: 0.9982     \n",
      "Epoch 73/100\n",
      "100800/100800 [==============================] - 5s - loss: 0.0076 - acc: 0.9979     \n",
      "Epoch 74/100\n",
      "100800/100800 [==============================] - 5s - loss: 0.0066 - acc: 0.9980     \n",
      "Epoch 75/100\n",
      "100800/100800 [==============================] - 5s - loss: 0.0070 - acc: 0.9978     \n",
      "Epoch 76/100\n",
      "100800/100800 [==============================] - 5s - loss: 0.0056 - acc: 0.9983     \n",
      "Epoch 77/100\n",
      "100800/100800 [==============================] - 5s - loss: 0.0062 - acc: 0.9983     \n",
      "Epoch 78/100\n",
      "100800/100800 [==============================] - 5s - loss: 0.0075 - acc: 0.9977     \n",
      "Epoch 79/100\n",
      "100800/100800 [==============================] - 5s - loss: 0.0064 - acc: 0.9982     \n",
      "Epoch 80/100\n",
      "100800/100800 [==============================] - 5s - loss: 0.0070 - acc: 0.9981     \n",
      "Epoch 81/100\n",
      "100800/100800 [==============================] - 5s - loss: 0.0059 - acc: 0.9981     \n",
      "Epoch 82/100\n",
      "100800/100800 [==============================] - 5s - loss: 0.0068 - acc: 0.9978     \n",
      "Epoch 83/100\n"
     ]
    },
    {
     "name": "stdout",
     "output_type": "stream",
     "text": [
      "100800/100800 [==============================] - 4s - loss: 0.0058 - acc: 0.9982     \n",
      "Epoch 84/100\n",
      "100800/100800 [==============================] - 4s - loss: 0.0067 - acc: 0.9979     \n",
      "Epoch 85/100\n",
      "100800/100800 [==============================] - 5s - loss: 0.0061 - acc: 0.9983     \n",
      "Epoch 86/100\n",
      "100800/100800 [==============================] - 5s - loss: 0.0069 - acc: 0.9979     \n",
      "Epoch 87/100\n",
      "100800/100800 [==============================] - 5s - loss: 0.0069 - acc: 0.9981     \n",
      "Epoch 88/100\n",
      "100800/100800 [==============================] - 4s - loss: 0.0064 - acc: 0.9982     \n",
      "Epoch 89/100\n",
      "100800/100800 [==============================] - 4s - loss: 0.0048 - acc: 0.9986     \n",
      "Epoch 90/100\n",
      "100800/100800 [==============================] - 4s - loss: 0.0071 - acc: 0.9979     \n",
      "Epoch 91/100\n",
      "100800/100800 [==============================] - 4s - loss: 0.0069 - acc: 0.9981     \n",
      "Epoch 92/100\n",
      "100800/100800 [==============================] - 5s - loss: 0.0054 - acc: 0.9985     \n",
      "Epoch 93/100\n",
      "100800/100800 [==============================] - 5s - loss: 0.0054 - acc: 0.9983     \n",
      "Epoch 94/100\n",
      "100800/100800 [==============================] - 4s - loss: 0.0054 - acc: 0.9984     \n",
      "Epoch 95/100\n",
      "100800/100800 [==============================] - 4s - loss: 0.0065 - acc: 0.9981     \n",
      "Epoch 96/100\n",
      "100800/100800 [==============================] - 5s - loss: 0.0052 - acc: 0.9984     \n",
      "Epoch 97/100\n",
      "100800/100800 [==============================] - 5s - loss: 0.0060 - acc: 0.9982     \n",
      "Epoch 98/100\n",
      "100800/100800 [==============================] - 4s - loss: 0.0055 - acc: 0.9986     \n",
      "Epoch 99/100\n",
      "100800/100800 [==============================] - 5s - loss: 0.0065 - acc: 0.9981     \n",
      "Epoch 100/100\n",
      "100800/100800 [==============================] - 4s - loss: 0.0055 - acc: 0.9984     \n",
      "24672/25200 [============================>.] - ETA: 0sAccuracy: 0.972976190476\n",
      "27648/28000 [============================>.] - ETA: 0s"
     ]
    }
   ],
   "source": [
    "def get_hist_predictions_neur(x_train, y_train, x_val, y_val, test_hist):\n",
    "    model = keras.models.Sequential()\n",
    "    model.add(keras.layers.Dense(200, input_dim=x_train.shape[1], activation='relu'))\n",
    "    model.add(keras.layers.Dense(100, input_dim=x_train.shape[1], activation='relu'))\n",
    "    model.add(keras.layers.Dense(100, input_dim=x_train.shape[1], activation='relu'))\n",
    "    model.add(keras.layers.Dense(10, activation='softmax'))\n",
    "    model.compile(optimizer='adam',\n",
    "              loss='categorical_crossentropy',\n",
    "              metrics=['accuracy'])\n",
    "    y_train_labels = np_utils.to_categorical(y_train)\n",
    "    model.fit(x_train, y_train_labels, batch_size=32, epochs=100)\n",
    "    pred_val = model.predict_classes(x_val)\n",
    "    print('Accuracy: %s' % accuracy_score(y_val, pred_val))\n",
    "    return pred_val, model.predict_classes(test_hist)\n",
    "pred_val, pred_test = get_hist_predictions_neur(x_train, y_train, x_val, y_val, test_hist)"
   ]
  },
  {
   "cell_type": "markdown",
   "metadata": {},
   "source": [
    "## Разбиваем выборку на обучение и валидацию"
   ]
  },
  {
   "cell_type": "code",
   "execution_count": 24,
   "metadata": {
    "collapsed": true
   },
   "outputs": [],
   "source": [
    "from sklearn.model_selection import train_test_split\n",
    "y_train, y_val, x_train, x_val = train_test_split(\n",
    "    train_label, train_hist, test_size=0.2, random_state=42)"
   ]
  },
  {
   "cell_type": "markdown",
   "metadata": {},
   "source": [
    "## Собираем полносвязную сеть для обучения"
   ]
  },
  {
   "cell_type": "code",
   "execution_count": 32,
   "metadata": {
    "collapsed": true
   },
   "outputs": [],
   "source": [
    "model = keras.models.Sequential()\n",
    "model.add(keras.layers.Dense(100, input_dim=x_train.shape[1], activation='relu'))\n",
    "model.add(keras.layers.Dense(10, activation='softmax'))\n",
    "model.compile(optimizer='adam',\n",
    "              loss='categorical_crossentropy',\n",
    "              metrics=['accuracy'])"
   ]
  },
  {
   "cell_type": "markdown",
   "metadata": {},
   "source": [
    "## Выводим информацию о модели"
   ]
  },
  {
   "cell_type": "code",
   "execution_count": null,
   "metadata": {
    "collapsed": true
   },
   "outputs": [],
   "source": [
    "model.summary()"
   ]
  },
  {
   "cell_type": "markdown",
   "metadata": {},
   "source": [
    "## One hot encoding разметки"
   ]
  },
  {
   "cell_type": "code",
   "execution_count": 30,
   "metadata": {
    "collapsed": true
   },
   "outputs": [],
   "source": [
    "from keras.utils import np_utils\n",
    "y_train_labels = np_utils.to_categorical(y_train)"
   ]
  },
  {
   "cell_type": "markdown",
   "metadata": {},
   "source": [
    "## Запускаем обучение"
   ]
  },
  {
   "cell_type": "code",
   "execution_count": 33,
   "metadata": {},
   "outputs": [
    {
     "name": "stdout",
     "output_type": "stream",
     "text": [
      "Epoch 1/100\n",
      "33600/33600 [==============================] - 1s - loss: 13.5884 - acc: 0.1568     \n",
      "Epoch 2/100\n",
      "33600/33600 [==============================] - 1s - loss: 13.3702 - acc: 0.1704     \n",
      "Epoch 3/100\n",
      "33600/33600 [==============================] - 1s - loss: 12.9762 - acc: 0.1949     \n",
      "Epoch 4/100\n",
      "33600/33600 [==============================] - 1s - loss: 12.9704 - acc: 0.1952     \n",
      "Epoch 5/100\n",
      "33600/33600 [==============================] - 1s - loss: 12.9075 - acc: 0.1991     \n",
      "Epoch 6/100\n",
      "33600/33600 [==============================] - 1s - loss: 12.9002 - acc: 0.1996     \n",
      "Epoch 7/100\n",
      "33600/33600 [==============================] - 1s - loss: 12.9002 - acc: 0.1996     \n",
      "Epoch 8/100\n",
      "33600/33600 [==============================] - 1s - loss: 12.9002 - acc: 0.1996     \n",
      "Epoch 9/100\n",
      "33600/33600 [==============================] - 1s - loss: 12.9002 - acc: 0.1996     \n",
      "Epoch 10/100\n",
      "33600/33600 [==============================] - 1s - loss: 12.9002 - acc: 0.1996     \n",
      "Epoch 11/100\n",
      "33600/33600 [==============================] - 1s - loss: 12.9002 - acc: 0.1996     \n",
      "Epoch 12/100\n",
      "33600/33600 [==============================] - 1s - loss: 12.9002 - acc: 0.1996     \n",
      "Epoch 13/100\n",
      "33600/33600 [==============================] - 1s - loss: 12.9002 - acc: 0.1996     \n",
      "Epoch 14/100\n",
      "33600/33600 [==============================] - 1s - loss: 12.9002 - acc: 0.1996     \n",
      "Epoch 15/100\n",
      "33600/33600 [==============================] - 1s - loss: 12.9002 - acc: 0.1996     \n",
      "Epoch 16/100\n",
      "33600/33600 [==============================] - 1s - loss: 12.9002 - acc: 0.1996     \n",
      "Epoch 17/100\n",
      "33600/33600 [==============================] - 1s - loss: 12.9002 - acc: 0.1996     \n",
      "Epoch 18/100\n",
      "33600/33600 [==============================] - 1s - loss: 12.9002 - acc: 0.1996     \n",
      "Epoch 19/100\n",
      "33600/33600 [==============================] - 1s - loss: 12.9002 - acc: 0.1996     \n",
      "Epoch 20/100\n",
      "33600/33600 [==============================] - 1s - loss: 12.9002 - acc: 0.1996     \n",
      "Epoch 21/100\n",
      "33600/33600 [==============================] - 1s - loss: 12.9002 - acc: 0.1996     \n",
      "Epoch 22/100\n",
      "33600/33600 [==============================] - 1s - loss: 12.9002 - acc: 0.1996     \n",
      "Epoch 23/100\n",
      "33600/33600 [==============================] - 1s - loss: 12.9002 - acc: 0.1996     \n",
      "Epoch 24/100\n",
      "33600/33600 [==============================] - 1s - loss: 12.9002 - acc: 0.1996     \n",
      "Epoch 25/100\n",
      "33600/33600 [==============================] - 1s - loss: 12.9002 - acc: 0.1996     \n",
      "Epoch 26/100\n",
      "33600/33600 [==============================] - 1s - loss: 12.9002 - acc: 0.1996     \n",
      "Epoch 27/100\n",
      "33600/33600 [==============================] - 1s - loss: 12.9002 - acc: 0.1996     \n",
      "Epoch 28/100\n",
      "33600/33600 [==============================] - 1s - loss: 12.9002 - acc: 0.1996     \n",
      "Epoch 29/100\n",
      "33600/33600 [==============================] - 1s - loss: 12.9002 - acc: 0.1996     \n",
      "Epoch 30/100\n",
      "33600/33600 [==============================] - 1s - loss: 12.9002 - acc: 0.1996     \n",
      "Epoch 31/100\n",
      "33600/33600 [==============================] - 1s - loss: 12.9002 - acc: 0.1996     \n",
      "Epoch 32/100\n",
      "33600/33600 [==============================] - 1s - loss: 12.9002 - acc: 0.1996     \n",
      "Epoch 33/100\n",
      "33600/33600 [==============================] - 1s - loss: 12.9002 - acc: 0.1996     \n",
      "Epoch 34/100\n",
      "33600/33600 [==============================] - 1s - loss: 12.9002 - acc: 0.1996     \n",
      "Epoch 35/100\n",
      "33600/33600 [==============================] - 1s - loss: 12.9002 - acc: 0.1996     \n",
      "Epoch 36/100\n",
      "33600/33600 [==============================] - 1s - loss: 12.9002 - acc: 0.1996     \n",
      "Epoch 37/100\n",
      "33600/33600 [==============================] - 1s - loss: 12.9002 - acc: 0.1996     \n",
      "Epoch 38/100\n",
      "33600/33600 [==============================] - 1s - loss: 12.9002 - acc: 0.1996     \n",
      "Epoch 39/100\n",
      "33600/33600 [==============================] - 1s - loss: 12.9002 - acc: 0.1996     \n",
      "Epoch 40/100\n",
      "33600/33600 [==============================] - 1s - loss: 12.9002 - acc: 0.1996     \n",
      "Epoch 41/100\n",
      "33600/33600 [==============================] - 1s - loss: 12.9002 - acc: 0.1996     \n",
      "Epoch 42/100\n",
      "33600/33600 [==============================] - 1s - loss: 12.9002 - acc: 0.1996     \n",
      "Epoch 43/100\n",
      "33600/33600 [==============================] - 1s - loss: 12.9002 - acc: 0.1996     \n",
      "Epoch 44/100\n",
      "33600/33600 [==============================] - 1s - loss: 12.9002 - acc: 0.1996     \n",
      "Epoch 45/100\n",
      "33600/33600 [==============================] - 1s - loss: 12.9002 - acc: 0.1996     \n",
      "Epoch 46/100\n",
      "33600/33600 [==============================] - 1s - loss: 12.9002 - acc: 0.1996     \n",
      "Epoch 47/100\n",
      "33600/33600 [==============================] - 1s - loss: 12.9002 - acc: 0.1996     \n",
      "Epoch 48/100\n",
      "33600/33600 [==============================] - 1s - loss: 12.9002 - acc: 0.1996     \n",
      "Epoch 49/100\n",
      "33600/33600 [==============================] - 1s - loss: 12.9002 - acc: 0.1996     \n",
      "Epoch 50/100\n",
      "33600/33600 [==============================] - 1s - loss: 12.9002 - acc: 0.1996     \n",
      "Epoch 51/100\n",
      "33600/33600 [==============================] - 1s - loss: 12.9002 - acc: 0.1996     \n",
      "Epoch 52/100\n",
      "33600/33600 [==============================] - 1s - loss: 12.9002 - acc: 0.1996     \n",
      "Epoch 53/100\n",
      "33600/33600 [==============================] - 1s - loss: 12.9002 - acc: 0.1996     \n",
      "Epoch 54/100\n",
      "33600/33600 [==============================] - 1s - loss: 12.9002 - acc: 0.1996     \n",
      "Epoch 55/100\n",
      "33600/33600 [==============================] - 1s - loss: 12.9002 - acc: 0.1996     \n",
      "Epoch 56/100\n",
      "33600/33600 [==============================] - 1s - loss: 12.9002 - acc: 0.1996     \n",
      "Epoch 57/100\n",
      "33600/33600 [==============================] - 1s - loss: 12.9002 - acc: 0.1996     \n",
      "Epoch 58/100\n",
      "33600/33600 [==============================] - 1s - loss: 12.9002 - acc: 0.1996     \n",
      "Epoch 59/100\n",
      "33600/33600 [==============================] - 1s - loss: 12.9002 - acc: 0.1996     \n",
      "Epoch 60/100\n",
      "33600/33600 [==============================] - 1s - loss: 12.9002 - acc: 0.1996     \n",
      "Epoch 61/100\n",
      "33600/33600 [==============================] - 1s - loss: 12.9002 - acc: 0.1996     \n",
      "Epoch 62/100\n",
      "33600/33600 [==============================] - 1s - loss: 12.9002 - acc: 0.1996     \n",
      "Epoch 63/100\n",
      "33600/33600 [==============================] - 1s - loss: 12.9002 - acc: 0.1996     \n",
      "Epoch 64/100\n",
      "33600/33600 [==============================] - 1s - loss: 12.9002 - acc: 0.1996     \n",
      "Epoch 65/100\n",
      "33600/33600 [==============================] - 1s - loss: 12.9002 - acc: 0.1996     \n",
      "Epoch 66/100\n",
      "33600/33600 [==============================] - 1s - loss: 12.9002 - acc: 0.1996     \n",
      "Epoch 67/100\n",
      "33600/33600 [==============================] - 1s - loss: 12.9002 - acc: 0.1996     \n",
      "Epoch 68/100\n",
      "33600/33600 [==============================] - 1s - loss: 12.9002 - acc: 0.1996     \n",
      "Epoch 69/100\n",
      "33600/33600 [==============================] - 1s - loss: 12.9002 - acc: 0.1996     \n",
      "Epoch 70/100\n",
      "33600/33600 [==============================] - 1s - loss: 12.9002 - acc: 0.1996     \n",
      "Epoch 71/100\n",
      "33600/33600 [==============================] - 1s - loss: 12.9002 - acc: 0.1996     \n",
      "Epoch 72/100\n",
      "33600/33600 [==============================] - 1s - loss: 12.9002 - acc: 0.1996     \n",
      "Epoch 73/100\n",
      "33600/33600 [==============================] - 1s - loss: 12.9002 - acc: 0.1996     \n",
      "Epoch 74/100\n",
      "33600/33600 [==============================] - 1s - loss: 12.9002 - acc: 0.1996     \n",
      "Epoch 75/100\n",
      "33600/33600 [==============================] - 1s - loss: 12.9002 - acc: 0.1996     \n",
      "Epoch 76/100\n",
      "33600/33600 [==============================] - 1s - loss: 12.9002 - acc: 0.1996     \n",
      "Epoch 77/100\n",
      "33600/33600 [==============================] - 1s - loss: 12.9002 - acc: 0.1996     \n",
      "Epoch 78/100\n",
      "33600/33600 [==============================] - 1s - loss: 12.9002 - acc: 0.1996     \n",
      "Epoch 79/100\n",
      "33600/33600 [==============================] - 1s - loss: 12.9002 - acc: 0.1996     \n",
      "Epoch 80/100\n",
      "33600/33600 [==============================] - 1s - loss: 12.9002 - acc: 0.1996     \n",
      "Epoch 81/100\n",
      "33600/33600 [==============================] - 1s - loss: 12.9002 - acc: 0.1996     \n",
      "Epoch 82/100\n",
      "33600/33600 [==============================] - 1s - loss: 12.9002 - acc: 0.1996     \n",
      "Epoch 83/100\n",
      "33600/33600 [==============================] - 1s - loss: 12.9002 - acc: 0.1996     \n",
      "Epoch 84/100\n"
     ]
    },
    {
     "name": "stdout",
     "output_type": "stream",
     "text": [
      "33600/33600 [==============================] - 1s - loss: 12.9002 - acc: 0.1996     \n",
      "Epoch 85/100\n",
      "33600/33600 [==============================] - 1s - loss: 12.9002 - acc: 0.1996     \n",
      "Epoch 86/100\n",
      "33600/33600 [==============================] - 1s - loss: 12.9002 - acc: 0.1996     \n",
      "Epoch 87/100\n",
      "33600/33600 [==============================] - 1s - loss: 12.9002 - acc: 0.1996     \n",
      "Epoch 88/100\n",
      "33600/33600 [==============================] - 1s - loss: 12.9002 - acc: 0.1996     \n",
      "Epoch 89/100\n",
      "33600/33600 [==============================] - 1s - loss: 12.9002 - acc: 0.1996     \n",
      "Epoch 90/100\n",
      "33600/33600 [==============================] - 1s - loss: 12.9002 - acc: 0.1996     \n",
      "Epoch 91/100\n",
      "33600/33600 [==============================] - 1s - loss: 12.9002 - acc: 0.1996     \n",
      "Epoch 92/100\n",
      "33600/33600 [==============================] - 1s - loss: 12.9002 - acc: 0.1996     \n",
      "Epoch 93/100\n",
      "33600/33600 [==============================] - 1s - loss: 12.9002 - acc: 0.1996     \n",
      "Epoch 94/100\n",
      "33600/33600 [==============================] - 1s - loss: 12.9002 - acc: 0.1996     \n",
      "Epoch 95/100\n",
      "33600/33600 [==============================] - 1s - loss: 12.9002 - acc: 0.1996     \n",
      "Epoch 96/100\n",
      "33600/33600 [==============================] - 1s - loss: 12.9002 - acc: 0.1996     \n",
      "Epoch 97/100\n",
      "33600/33600 [==============================] - 1s - loss: 12.9002 - acc: 0.1996     \n",
      "Epoch 98/100\n",
      "33600/33600 [==============================] - 1s - loss: 12.9002 - acc: 0.1996     \n",
      "Epoch 99/100\n",
      "33600/33600 [==============================] - 1s - loss: 12.9002 - acc: 0.1996     \n",
      "Epoch 100/100\n",
      "33600/33600 [==============================] - 1s - loss: 12.9002 - acc: 0.1996     \n"
     ]
    },
    {
     "data": {
      "text/plain": [
       "<keras.callbacks.History at 0x11aedc88>"
      ]
     },
     "execution_count": 33,
     "metadata": {},
     "output_type": "execute_result"
    }
   ],
   "source": [
    "model.fit(x_train, y_train_labels, batch_size=32, epochs=100)"
   ]
  },
  {
   "cell_type": "markdown",
   "metadata": {},
   "source": [
    "## Предсказываем класс объекта"
   ]
  },
  {
   "cell_type": "code",
   "execution_count": 23,
   "metadata": {},
   "outputs": [
    {
     "name": "stdout",
     "output_type": "stream",
     "text": [
      "6688/8400 [======================>.......] - ETA: 0s"
     ]
    }
   ],
   "source": [
    "pred_val = model.predict_classes(x_val)"
   ]
  },
  {
   "cell_type": "markdown",
   "metadata": {},
   "source": [
    "## Оцениваем качество решение на валидационной выборке"
   ]
  },
  {
   "cell_type": "code",
   "execution_count": 24,
   "metadata": {},
   "outputs": [
    {
     "name": "stdout",
     "output_type": "stream",
     "text": [
      "Accuracy: 0.0971428571429\n"
     ]
    }
   ],
   "source": [
    "from sklearn.metrics import accuracy_score\n",
    "print('Accuracy: %s' % accuracy_score(y_val, pred_val))"
   ]
  },
  {
   "cell_type": "code",
   "execution_count": 26,
   "metadata": {},
   "outputs": [
    {
     "name": "stdout",
     "output_type": "stream",
     "text": [
      "             precision    recall  f1-score   support\n",
      "\n",
      "        0.0       0.10      1.00      0.18       816\n",
      "        1.0       0.00      0.00      0.00       909\n",
      "        2.0       0.00      0.00      0.00       846\n",
      "        3.0       0.00      0.00      0.00       937\n",
      "        4.0       0.00      0.00      0.00       839\n",
      "        5.0       0.00      0.00      0.00       702\n",
      "        6.0       0.00      0.00      0.00       785\n",
      "        7.0       0.00      0.00      0.00       893\n",
      "        8.0       0.00      0.00      0.00       835\n",
      "        9.0       0.00      0.00      0.00       838\n",
      "\n",
      "avg / total       0.01      0.10      0.02      8400\n",
      "\n"
     ]
    },
    {
     "name": "stderr",
     "output_type": "stream",
     "text": [
      "C:\\Program Files\\Anaconda3\\lib\\site-packages\\sklearn\\metrics\\classification.py:1113: UndefinedMetricWarning: Precision and F-score are ill-defined and being set to 0.0 in labels with no predicted samples.\n",
      "  'precision', 'predicted', average, warn_for)\n"
     ]
    }
   ],
   "source": [
    "from sklearn.metrics import classification_report\n",
    "print(classification_report(y_val, pred_val))"
   ]
  },
  {
   "cell_type": "code",
   "execution_count": 25,
   "metadata": {},
   "outputs": [
    {
     "name": "stdout",
     "output_type": "stream",
     "text": [
      "[[816   0   0   0   0   0   0   0   0   0]\n",
      " [909   0   0   0   0   0   0   0   0   0]\n",
      " [846   0   0   0   0   0   0   0   0   0]\n",
      " [937   0   0   0   0   0   0   0   0   0]\n",
      " [839   0   0   0   0   0   0   0   0   0]\n",
      " [702   0   0   0   0   0   0   0   0   0]\n",
      " [785   0   0   0   0   0   0   0   0   0]\n",
      " [893   0   0   0   0   0   0   0   0   0]\n",
      " [835   0   0   0   0   0   0   0   0   0]\n",
      " [838   0   0   0   0   0   0   0   0   0]]\n"
     ]
    }
   ],
   "source": [
    "from sklearn.metrics import confusion_matrix\n",
    "print(confusion_matrix(y_val, pred_val))"
   ]
  },
  {
   "cell_type": "markdown",
   "metadata": {},
   "source": [
    "## Предсказания на тестовыйх данных"
   ]
  },
  {
   "cell_type": "code",
   "execution_count": 27,
   "metadata": {},
   "outputs": [
    {
     "name": "stdout",
     "output_type": "stream",
     "text": [
      "26496/28000 [===========================>..] - ETA: 0s"
     ]
    }
   ],
   "source": [
    "pred_test = model.predict_classes(test_hist)"
   ]
  },
  {
   "cell_type": "markdown",
   "metadata": {},
   "source": [
    "## Визуализируем предсказания"
   ]
  },
  {
   "cell_type": "code",
   "execution_count": 93,
   "metadata": {},
   "outputs": [
    {
     "data": {
      "image/png": "[encoded data removed]",
      "text/plain": [
       "<matplotlib.figure.Figure at 0x1669dd68>"
      ]
     },
     "metadata": {},
     "output_type": "display_data"
    }
   ],
   "source": [
    "fig = plt.figure(figsize=(20, 10))\n",
    "for i, img in enumerate(test_img[0:20], 1):\n",
    "    subplot = fig.add_subplot(int(i / 10) + 1, 11, i % 10)\n",
    "    plt.imshow(img, cmap='gray');\n",
    "    subplot.set_title('%s' % pred_test[i - 1]);"
   ]
  },
  {
   "cell_type": "markdown",
   "metadata": {},
   "source": [
    "## Готовим файл для отправки"
   ]
  },
  {
   "cell_type": "code",
   "execution_count": 94,
   "metadata": {
    "collapsed": true
   },
   "outputs": [],
   "source": [
    "with open('submit.txt', 'w') as dst:\n",
    "    dst.write('ImageId,Label\\n')\n",
    "    for i, p in enumerate(pred_test, 1):\n",
    "        dst.write('%s,%s\\n' % (i, p))"
   ]
  },
  {
   "cell_type": "code",
   "execution_count": null,
   "metadata": {
    "collapsed": true
   },
   "outputs": [],
   "source": [
    "# Your submission scored 0.59843"
   ]
  }
 ],
 "metadata": {
  "kernelspec": {
   "display_name": "Python 3",
   "language": "python",
   "name": "python3"
  },
  "language_info": {
   "codemirror_mode": {
    "name": "ipython",
    "version": 3
   },
   "file_extension": ".py",
   "mimetype": "text/x-python",
   "name": "python",
   "nbconvert_exporter": "python",
   "pygments_lexer": "ipython3",
   "version": "3.6.1"
  }
 },
 "nbformat": 4,
 "nbformat_minor": 2
}

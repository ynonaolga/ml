{
 "cells": [
  {
   "cell_type": "markdown",
   "metadata": {},
   "source": [
    "# Занятие 6.1: Введение в обработку текста\n",
    "\n",
    "Максим Ионов, [max.ionov@gmail.com](mailto:max.ionov@gmail.com)"
   ]
  },
  {
   "cell_type": "markdown",
   "metadata": {
    "collapsed": true
   },
   "source": [
    "## Анализ сентиментов в твиттере"
   ]
  },
  {
   "cell_type": "code",
   "execution_count": 58,
   "metadata": {
    "collapsed": true
   },
   "outputs": [],
   "source": [
    "import pandas as pd\n",
    "import numpy as np\n",
    "from sklearn.model_selection import train_test_split\n",
    "import sklearn.pipeline\n",
    "import sklearn.naive_bayes\n",
    "from nltk.tokenize import RegexpTokenizer\n",
    "import sklearn.metrics\n",
    "import nltk"
   ]
  },
  {
   "cell_type": "code",
   "execution_count": 52,
   "metadata": {
    "collapsed": true
   },
   "outputs": [],
   "source": [
    "colnames = ['id', 'tdate', 'tmane', 'ttext', 'ttype', 'trep','tftw', 'tfav', 'tstcount', 'tfol', 'tfrien', 'listcount']\n",
    "pos_data = pd.read_csv('positive.csv', names=colnames, sep=';')\n",
    "neg_data = pd.read_csv('negative.csv', names=colnames, sep=';')"
   ]
  },
  {
   "cell_type": "code",
   "execution_count": 13,
   "metadata": {},
   "outputs": [
    {
     "data": {
      "text/html": [
       "<div>\n",
       "<style>\n",
       "    .dataframe thead tr:only-child th {\n",
       "        text-align: right;\n",
       "    }\n",
       "\n",
       "    .dataframe thead th {\n",
       "        text-align: left;\n",
       "    }\n",
       "\n",
       "    .dataframe tbody tr th {\n",
       "        vertical-align: top;\n",
       "    }\n",
       "</style>\n",
       "<table border=\"1\" class=\"dataframe\">\n",
       "  <thead>\n",
       "    <tr style=\"text-align: right;\">\n",
       "      <th></th>\n",
       "      <th>id</th>\n",
       "      <th>tdate</th>\n",
       "      <th>tmane</th>\n",
       "      <th>ttext</th>\n",
       "      <th>ttype</th>\n",
       "      <th>trep</th>\n",
       "      <th>tftw</th>\n",
       "      <th>tfav</th>\n",
       "      <th>tstcount</th>\n",
       "      <th>tfol</th>\n",
       "      <th>tfrien</th>\n",
       "      <th>listcount</th>\n",
       "    </tr>\n",
       "  </thead>\n",
       "  <tbody>\n",
       "    <tr>\n",
       "      <th>0</th>\n",
       "      <td>408906692374446080</td>\n",
       "      <td>1386325927</td>\n",
       "      <td>pleease_shut_up</td>\n",
       "      <td>@first_timee хоть я и школота, но поверь, у на...</td>\n",
       "      <td>1</td>\n",
       "      <td>0</td>\n",
       "      <td>0</td>\n",
       "      <td>0</td>\n",
       "      <td>7569</td>\n",
       "      <td>62</td>\n",
       "      <td>61</td>\n",
       "      <td>0</td>\n",
       "    </tr>\n",
       "    <tr>\n",
       "      <th>1</th>\n",
       "      <td>408906692693221377</td>\n",
       "      <td>1386325927</td>\n",
       "      <td>alinakirpicheva</td>\n",
       "      <td>Да, все-таки он немного похож на него. Но мой ...</td>\n",
       "      <td>1</td>\n",
       "      <td>0</td>\n",
       "      <td>0</td>\n",
       "      <td>0</td>\n",
       "      <td>11825</td>\n",
       "      <td>59</td>\n",
       "      <td>31</td>\n",
       "      <td>2</td>\n",
       "    </tr>\n",
       "    <tr>\n",
       "      <th>2</th>\n",
       "      <td>408906695083954177</td>\n",
       "      <td>1386325927</td>\n",
       "      <td>EvgeshaRe</td>\n",
       "      <td>RT @KatiaCheh: Ну ты идиотка) я испугалась за ...</td>\n",
       "      <td>1</td>\n",
       "      <td>0</td>\n",
       "      <td>1</td>\n",
       "      <td>0</td>\n",
       "      <td>1273</td>\n",
       "      <td>26</td>\n",
       "      <td>27</td>\n",
       "      <td>0</td>\n",
       "    </tr>\n",
       "    <tr>\n",
       "      <th>3</th>\n",
       "      <td>408906695356973056</td>\n",
       "      <td>1386325927</td>\n",
       "      <td>ikonnikova_21</td>\n",
       "      <td>RT @digger2912: \"Кто то в углу сидит и погибае...</td>\n",
       "      <td>1</td>\n",
       "      <td>0</td>\n",
       "      <td>1</td>\n",
       "      <td>0</td>\n",
       "      <td>1549</td>\n",
       "      <td>19</td>\n",
       "      <td>17</td>\n",
       "      <td>0</td>\n",
       "    </tr>\n",
       "    <tr>\n",
       "      <th>4</th>\n",
       "      <td>408906761416867842</td>\n",
       "      <td>1386325943</td>\n",
       "      <td>JumpyAlex</td>\n",
       "      <td>@irina_dyshkant Вот что значит страшилка :D\\nН...</td>\n",
       "      <td>1</td>\n",
       "      <td>0</td>\n",
       "      <td>0</td>\n",
       "      <td>0</td>\n",
       "      <td>597</td>\n",
       "      <td>16</td>\n",
       "      <td>23</td>\n",
       "      <td>1</td>\n",
       "    </tr>\n",
       "  </tbody>\n",
       "</table>\n",
       "</div>"
      ],
      "text/plain": [
       "                   id       tdate            tmane  \\\n",
       "0  408906692374446080  1386325927  pleease_shut_up   \n",
       "1  408906692693221377  1386325927  alinakirpicheva   \n",
       "2  408906695083954177  1386325927        EvgeshaRe   \n",
       "3  408906695356973056  1386325927    ikonnikova_21   \n",
       "4  408906761416867842  1386325943        JumpyAlex   \n",
       "\n",
       "                                               ttext  ttype  trep  tftw  tfav  \\\n",
       "0  @first_timee хоть я и школота, но поверь, у на...      1     0     0     0   \n",
       "1  Да, все-таки он немного похож на него. Но мой ...      1     0     0     0   \n",
       "2  RT @KatiaCheh: Ну ты идиотка) я испугалась за ...      1     0     1     0   \n",
       "3  RT @digger2912: \"Кто то в углу сидит и погибае...      1     0     1     0   \n",
       "4  @irina_dyshkant Вот что значит страшилка :D\\nН...      1     0     0     0   \n",
       "\n",
       "   tstcount  tfol  tfrien  listcount  \n",
       "0      7569    62      61          0  \n",
       "1     11825    59      31          2  \n",
       "2      1273    26      27          0  \n",
       "3      1549    19      17          0  \n",
       "4       597    16      23          1  "
      ]
     },
     "execution_count": 13,
     "metadata": {},
     "output_type": "execute_result"
    }
   ],
   "source": [
    "pos_data.head()"
   ]
  },
  {
   "cell_type": "code",
   "execution_count": 53,
   "metadata": {
    "collapsed": true
   },
   "outputs": [],
   "source": [
    "data = pd.concat([pos_data, neg_data] ).reset_index()\n",
    "train_data, test_data = train_test_split(data, test_size=0.2)\n",
    "train_data, val_data = train_test_split(train_data, test_size=0.2)"
   ]
  },
  {
   "cell_type": "code",
   "execution_count": 63,
   "metadata": {
    "collapsed": true
   },
   "outputs": [],
   "source": [
    "textcolumn= 'ttext'\n",
    "sentcolumn = 'ttype'\n",
    "def getconfmatrix(text_clf, train_data, val_data):\n",
    "    text_clf.fit(train_data[textcolumn], train_data[sentcolumn])\n",
    "    predicted = text_clf.predict(val_data[textcolumn])\n",
    "    print(sklearn.metrics.classification_report(val_data[sentcolumn], predicted))\n",
    "    return sklearn.metrics.confusion_matrix(val_data[sentcolumn], predicted)"
   ]
  },
  {
   "cell_type": "markdown",
   "metadata": {},
   "source": [
    "### tokenizer - split ' ' + countVectorizer"
   ]
  },
  {
   "cell_type": "code",
   "execution_count": 46,
   "metadata": {},
   "outputs": [
    {
     "name": "stdout",
     "output_type": "stream",
     "text": [
      "             precision    recall  f1-score   support\n",
      "\n",
      "         -1       0.83      0.84      0.83     17900\n",
      "          1       0.84      0.83      0.84     18394\n",
      "\n",
      "avg / total       0.84      0.84      0.84     36294\n",
      "\n"
     ]
    },
    {
     "data": {
      "text/plain": [
       "array([[15028,  2872],\n",
       "       [ 3101, 15293]])"
      ]
     },
     "execution_count": 46,
     "metadata": {},
     "output_type": "execute_result"
    }
   ],
   "source": [
    "text_clf = sklearn.pipeline.Pipeline([('vect', \n",
    "                                       sklearn.feature_extraction.text.CountVectorizer(min_df=5, max_df=0.75, \n",
    "                                                 tokenizer=lambda s: s.split(' '))),\n",
    "                     ('clf', sklearn.naive_bayes.MultinomialNB())])\n",
    "getconfmatrix(text_clf, train_data, val_data)"
   ]
  },
  {
   "cell_type": "markdown",
   "metadata": {},
   "source": [
    "### countvectorizer"
   ]
  },
  {
   "cell_type": "code",
   "execution_count": 47,
   "metadata": {},
   "outputs": [
    {
     "name": "stdout",
     "output_type": "stream",
     "text": [
      "             precision    recall  f1-score   support\n",
      "\n",
      "         -1       0.74      0.75      0.74     17900\n",
      "          1       0.75      0.74      0.75     18394\n",
      "\n",
      "avg / total       0.75      0.75      0.75     36294\n",
      "\n"
     ]
    },
    {
     "data": {
      "text/plain": [
       "array([[13432,  4468],\n",
       "       [ 4739, 13655]])"
      ]
     },
     "execution_count": 47,
     "metadata": {},
     "output_type": "execute_result"
    }
   ],
   "source": [
    "text_clf = sklearn.pipeline.Pipeline([('vect', \n",
    "                                       sklearn.feature_extraction.text.TfidfVectorizer(min_df=5, max_df=0.75)),\n",
    "                     ('clf', sklearn.naive_bayes.MultinomialNB())])\n",
    "getconfmatrix(text_clf, train_data, val_data)"
   ]
  },
  {
   "cell_type": "markdown",
   "metadata": {},
   "source": [
    "### CountVectorizer + ngram(1,2)"
   ]
  },
  {
   "cell_type": "code",
   "execution_count": 48,
   "metadata": {},
   "outputs": [
    {
     "name": "stdout",
     "output_type": "stream",
     "text": [
      "             precision    recall  f1-score   support\n",
      "\n",
      "         -1       0.74      0.75      0.74     17900\n",
      "          1       0.75      0.74      0.75     18394\n",
      "\n",
      "avg / total       0.75      0.75      0.75     36294\n",
      "\n"
     ]
    },
    {
     "data": {
      "text/plain": [
       "array([[13432,  4468],\n",
       "       [ 4739, 13655]])"
      ]
     },
     "execution_count": 48,
     "metadata": {},
     "output_type": "execute_result"
    }
   ],
   "source": [
    "text_clf = sklearn.pipeline.Pipeline([('vect', \n",
    "                                       sklearn.feature_extraction.text.TfidfVectorizer(min_df=5, max_df=0.75)),\n",
    "                     ('clf', sklearn.naive_bayes.MultinomialNB())])\n",
    "getconfmatrix(text_clf, train_data, val_data)"
   ]
  },
  {
   "cell_type": "markdown",
   "metadata": {},
   "source": [
    "### tokenizer Regexp W (дает прирост в 0.2 относительно w+)"
   ]
  },
  {
   "cell_type": "code",
   "execution_count": 64,
   "metadata": {},
   "outputs": [
    {
     "name": "stdout",
     "output_type": "stream",
     "text": [
      "             precision    recall  f1-score   support\n",
      "\n",
      "         -1       0.98      0.97      0.97     17857\n",
      "          1       0.97      0.98      0.97     18437\n",
      "\n",
      "avg / total       0.97      0.97      0.97     36294\n",
      "\n"
     ]
    },
    {
     "data": {
      "text/plain": [
       "array([[17262,   595],\n",
       "       [  368, 18069]])"
      ]
     },
     "execution_count": 64,
     "metadata": {},
     "output_type": "execute_result"
    }
   ],
   "source": [
    "def tryDifferenTokenizers(getWords, train_data, val_data):\n",
    "    text_clf = sklearn.pipeline.Pipeline([('vect', \n",
    "                                       sklearn.feature_extraction.text.CountVectorizer(min_df=5, max_df=0.75,\n",
    "                                      tokenizer=lambda s: getWords(s))),\n",
    "                     ('clf', sklearn.naive_bayes.MultinomialNB())])\n",
    "    return getconfmatrix(text_clf, train_data, val_data)\n",
    "\n",
    "\n",
    "tokenizer = RegexpTokenizer(r'\\W')\n",
    "def getWordsNltkRegExp(s):\n",
    "    return [word.lower() for word in tokenizer.tokenize(s)]\n",
    "tryDifferenTokenizers(getWordsNltkRegExp, train_data, val_data)"
   ]
  },
  {
   "cell_type": "code",
   "execution_count": 59,
   "metadata": {},
   "outputs": [
    {
     "name": "stdout",
     "output_type": "stream",
     "text": [
      "             precision    recall  f1-score   support\n",
      "\n",
      "         -1       1.00      0.99      1.00     17857\n",
      "          1       0.99      1.00      1.00     18437\n",
      "\n",
      "avg / total       1.00      1.00      1.00     36294\n",
      "\n"
     ]
    },
    {
     "data": {
      "text/plain": [
       "array([[17706,   151],\n",
       "       [   26, 18411]])"
      ]
     },
     "execution_count": 59,
     "metadata": {},
     "output_type": "execute_result"
    }
   ],
   "source": [
    "tweetTokenizer = nltk.tokenize.casual.TweetTokenizer(preserve_case=False)\n",
    "def getWordsTweetTokenizer(s):\n",
    "     return tweetTokenizer.tokenize(s)\n",
    "tryDifferenTokenizers(getWordsTweetTokenizer, train_data, val_data)"
   ]
  },
  {
   "cell_type": "markdown",
   "metadata": {},
   "source": [
    "### Conf_matrix - для tweetTokenizer на всех данных"
   ]
  },
  {
   "cell_type": "code",
   "execution_count": 66,
   "metadata": {},
   "outputs": [
    {
     "name": "stdout",
     "output_type": "stream",
     "text": [
      "             precision    recall  f1-score   support\n",
      "\n",
      "         -1       1.00      0.99      1.00    111923\n",
      "          1       0.99      1.00      1.00    114911\n",
      "\n",
      "avg / total       1.00      1.00      1.00    226834\n",
      "\n"
     ]
    },
    {
     "data": {
      "text/plain": [
       "array([[111090,    833],\n",
       "       [   138, 114773]])"
      ]
     },
     "execution_count": 66,
     "metadata": {},
     "output_type": "execute_result"
    }
   ],
   "source": [
    "tryDifferenTokenizers(getWordsTweetTokenizer, train_data, data)"
   ]
  },
  {
   "cell_type": "markdown",
   "metadata": {},
   "source": [
    "### Conf_matrix для nltkTokenizer на всех данных"
   ]
  },
  {
   "cell_type": "code",
   "execution_count": 67,
   "metadata": {},
   "outputs": [
    {
     "name": "stdout",
     "output_type": "stream",
     "text": [
      "             precision    recall  f1-score   support\n",
      "\n",
      "         -1       0.98      0.97      0.97    111923\n",
      "          1       0.97      0.98      0.97    114911\n",
      "\n",
      "avg / total       0.97      0.97      0.97    226834\n",
      "\n"
     ]
    },
    {
     "data": {
      "text/plain": [
       "array([[108157,   3766],\n",
       "       [  2406, 112505]])"
      ]
     },
     "execution_count": 67,
     "metadata": {},
     "output_type": "execute_result"
    }
   ],
   "source": [
    "tryDifferenTokenizers(getWordsNltkRegExp, train_data, data)"
   ]
  },
  {
   "cell_type": "markdown",
   "metadata": {},
   "source": [
    "### Посмотрим, на каких предложениях ошибся классификатор с tweetTokenizer"
   ]
  },
  {
   "cell_type": "code",
   "execution_count": null,
   "metadata": {
    "collapsed": true
   },
   "outputs": [],
   "source": [
    "text_clf = sklearn.pipeline.Pipeline([('vect', \n",
    "                                       sklearn.feature_extraction.text.CountVectorizer(min_df=5, max_df=0.75,\n",
    "                                      tokenizer=lambda s: getWordsTweetTokenizer(s))),\n",
    "                     ('clf', sklearn.naive_bayes.MultinomialNB())])\n",
    "text_clf.fit(train_data[textcolumn], train_data[sentcolumn])\n",
    "predicted = text_clf.predict(val_data[textcolumn])"
   ]
  },
  {
   "cell_type": "code",
   "execution_count": 51,
   "metadata": {},
   "outputs": [
    {
     "data": {
      "text/html": [
       "<div>\n",
       "<style>\n",
       "    .dataframe thead tr:only-child th {\n",
       "        text-align: right;\n",
       "    }\n",
       "\n",
       "    .dataframe thead th {\n",
       "        text-align: left;\n",
       "    }\n",
       "\n",
       "    .dataframe tbody tr th {\n",
       "        vertical-align: top;\n",
       "    }\n",
       "</style>\n",
       "<table border=\"1\" class=\"dataframe\">\n",
       "  <thead>\n",
       "    <tr style=\"text-align: right;\">\n",
       "      <th></th>\n",
       "      <th>ttext</th>\n",
       "      <th>ttype</th>\n",
       "    </tr>\n",
       "  </thead>\n",
       "  <tbody>\n",
       "    <tr>\n",
       "      <th>179984</th>\n",
       "      <td>RT @pro_o_pro: Константин дразнит Олю http://t.co/Ewl4oj8tby #новости #Селигер2013</td>\n",
       "      <td>-1</td>\n",
       "    </tr>\n",
       "    <tr>\n",
       "      <th>133855</th>\n",
       "      <td>RT @Lehailigde: Снег крадут=*( http://t.co/4cNBQ21qbY</td>\n",
       "      <td>-1</td>\n",
       "    </tr>\n",
       "    <tr>\n",
       "      <th>158686</th>\n",
       "      <td>Ахаха! Дибилы бесите со своими концами...света! }:-/ каждый второй статус ёб...!</td>\n",
       "      <td>-1</td>\n",
       "    </tr>\n",
       "    <tr>\n",
       "      <th>212858</th>\n",
       "      <td>RT @Hi_natasha_: #МолСовет БВ на #СеребрянаяНить @vp1101156 @id_karo_o @aleksey_perec http://t.co/d15rAwxBWt</td>\n",
       "      <td>-1</td>\n",
       "    </tr>\n",
       "    <tr>\n",
       "      <th>132787</th>\n",
       "      <td>RT @antje_O_o: работница месяца @tbushmel http://t.co/PEz2HRCLVI</td>\n",
       "      <td>-1</td>\n",
       "    </tr>\n",
       "    <tr>\n",
       "      <th>212448</th>\n",
       "      <td>RT @orko_ori: #драйвер для usb texet скачать http://t.co/WuBV0kOJTy</td>\n",
       "      <td>-1</td>\n",
       "    </tr>\n",
       "    <tr>\n",
       "      <th>191900</th>\n",
       "      <td>RT @jared_na_marse: Опаньки\\n о_О http://t.co/1USmPFiFrt</td>\n",
       "      <td>-1</td>\n",
       "    </tr>\n",
       "    <tr>\n",
       "      <th>185252</th>\n",
       "      <td>RT @leaving_to_Omsk: завтра будет голди хастл пати ин да канищево гетто</td>\n",
       "      <td>-1</td>\n",
       "    </tr>\n",
       "    <tr>\n",
       "      <th>160917</th>\n",
       "      <td>@blchk434 наверное,но мне кажется,когда мы были на прошлых Диксах,ты про нее спросила о_О ну да ладно,не важно ХД</td>\n",
       "      <td>-1</td>\n",
       "    </tr>\n",
       "    <tr>\n",
       "      <th>198835</th>\n",
       "      <td>@zO_Om это по какой шкале? По нашей или по ихней?</td>\n",
       "      <td>-1</td>\n",
       "    </tr>\n",
       "    <tr>\n",
       "      <th>7239</th>\n",
       "      <td>настроения нет.я умею его портить себе и другим...надеюсь у него все хорошо.:*</td>\n",
       "      <td>1</td>\n",
       "    </tr>\n",
       "    <tr>\n",
       "      <th>139947</th>\n",
       "      <td>RT @kota_Oo_oO: @astral69_ шазалуосщвоузплвов *0* я так буду рад,просто счастлиииииив,буду летать по дому и орать от счастья*-*</td>\n",
       "      <td>-1</td>\n",
       "    </tr>\n",
       "    <tr>\n",
       "      <th>89993</th>\n",
       "      <td>уже жду каникул и праздников\\nс нетерпением  :З\\nхочу отдохнуть :*</td>\n",
       "      <td>1</td>\n",
       "    </tr>\n",
       "    <tr>\n",
       "      <th>186139</th>\n",
       "      <td>RT @little_bird_o_o: @Nastya_Attwood спасибо с:</td>\n",
       "      <td>-1</td>\n",
       "    </tr>\n",
       "    <tr>\n",
       "      <th>133906</th>\n",
       "      <td>С @VerO_okK в одной машине сегодня катаемся! :33 Инструктор, берегииись!</td>\n",
       "      <td>-1</td>\n",
       "    </tr>\n",
       "    <tr>\n",
       "      <th>212488</th>\n",
       "      <td>@YOOOOOOOO_OOOOO спокооооооооооооооооооойной ^^</td>\n",
       "      <td>-1</td>\n",
       "    </tr>\n",
       "    <tr>\n",
       "      <th>134107</th>\n",
       "      <td>RT @kota_Oo_oO: @graanatik awwww обнимаааашкиии *0*</td>\n",
       "      <td>-1</td>\n",
       "    </tr>\n",
       "    <tr>\n",
       "      <th>115517</th>\n",
       "      <td>RT @palizofyput: Открываю документацию на фреймворк kohana. Сразу в глаза бросается заголовок: «Эта документация — г*вно!» о_О Переключаюс</td>\n",
       "      <td>-1</td>\n",
       "    </tr>\n",
       "    <tr>\n",
       "      <th>181585</th>\n",
       "      <td>@euromaidan удачи вам:-!парубки мы #USA с вами:-!</td>\n",
       "      <td>-1</td>\n",
       "    </tr>\n",
       "    <tr>\n",
       "      <th>72978</th>\n",
       "      <td>блин, снова вспоминаю родную @meow_murr_meow  ... как же мне без нее трудно:* скучаю</td>\n",
       "      <td>1</td>\n",
       "    </tr>\n",
       "    <tr>\n",
       "      <th>130518</th>\n",
       "      <td>@kota_Oo_oO\\nHiiiii. Привет,мой новый читатель с азуенным юном. Добра,няшек и много много упоротости тебе.</td>\n",
       "      <td>-1</td>\n",
       "    </tr>\n",
       "    <tr>\n",
       "      <th>173297</th>\n",
       "      <td>RT @to_over_kill: @unicorn28601 спасиибо *-*</td>\n",
       "      <td>-1</td>\n",
       "    </tr>\n",
       "    <tr>\n",
       "      <th>181034</th>\n",
       "      <td>RT @Higway_To_Hell: @kota_Oo_oO спасибо, милый с: тебя тоже с наступающим о/</td>\n",
       "      <td>-1</td>\n",
       "    </tr>\n",
       "    <tr>\n",
       "      <th>221884</th>\n",
       "      <td>@69directioon69 Ууу,ну хорошо,мой пупс.хх\\nАхаха, пупс?Что я несу?\\nЯ несу людям добро!Ихихи\\nВсе,мне проду пора спать.. :| я как всегда упорот</td>\n",
       "      <td>-1</td>\n",
       "    </tr>\n",
       "    <tr>\n",
       "      <th>159372</th>\n",
       "      <td>RT @fo_ogrodary: - Можно мне 140 грамм кокаина?\\n- Почему 140?\\n- Я твиттерская.</td>\n",
       "      <td>-1</td>\n",
       "    </tr>\n",
       "    <tr>\n",
       "      <th>222657</th>\n",
       "      <td>@SerovaKira @KatyaTweetcorn_ кир ты ещё бы сказала  всему миру что я делаю ванной =*(</td>\n",
       "      <td>-1</td>\n",
       "    </tr>\n",
       "    <tr>\n",
       "      <th>125631</th>\n",
       "      <td>RT @anstation: #ХочуПровестиНовогоднююНочьВместеС : \\n@EliaNagaeva \\n@Multiashka \\n@I_love_nigers \\n@Katya_Emelina \\n@ian_my__love \\n@kota_Oo_oO …</td>\n",
       "      <td>-1</td>\n",
       "    </tr>\n",
       "    <tr>\n",
       "      <th>80134</th>\n",
       "      <td>Я же просто самочка атаз, куча парней вокруг критится &amp;gt;;)</td>\n",
       "      <td>1</td>\n",
       "    </tr>\n",
       "    <tr>\n",
       "      <th>224407</th>\n",
       "      <td>@Normalno_O потом Свете говоришь, ты бы еще голая сфотолась хахахах</td>\n",
       "      <td>-1</td>\n",
       "    </tr>\n",
       "    <tr>\n",
       "      <th>210931</th>\n",
       "      <td>RT @seno_oppai: учителю в контакте плохо  в друзья добавился весь класс  ни голых баб теперь на стенке ни завуч сука в статусе</td>\n",
       "      <td>-1</td>\n",
       "    </tr>\n",
       "    <tr>\n",
       "      <th>...</th>\n",
       "      <td>...</td>\n",
       "      <td>...</td>\n",
       "    </tr>\n",
       "    <tr>\n",
       "      <th>217015</th>\n",
       "      <td>RT @bezzubikovao_o: Сегодня день группы \"The Beatles\"\\n#TheBeatles\\nJohn Lennon- yesterday #np</td>\n",
       "      <td>-1</td>\n",
       "    </tr>\n",
       "    <tr>\n",
       "      <th>135288</th>\n",
       "      <td>RT @Dreaamm75: #євромайдан #euromaidan #Ukraine #евромайдан Жителям Крима - что ваших сыновей ждет в рассии( http://t.co/LUBO4WySm6</td>\n",
       "      <td>-1</td>\n",
       "    </tr>\n",
       "    <tr>\n",
       "      <th>193847</th>\n",
       "      <td>@ozo_om и ,кстати, сначала мне тем более так не показалось.. он не показал и виду ,что у него кто-то есть. Так что..я чиста:3</td>\n",
       "      <td>-1</td>\n",
       "    </tr>\n",
       "    <tr>\n",
       "      <th>159237</th>\n",
       "      <td>RT @0630_alien: @Chikatilo_o62o и действительно ведь http://t.co/bLIl8ErRSS</td>\n",
       "      <td>-1</td>\n",
       "    </tr>\n",
       "    <tr>\n",
       "      <th>188368</th>\n",
       "      <td>RT @Dreamerko_O: Вы только представьте, сейчас нам 14\\nА уже через несколько месяцев 15!!\\n15 черт возьми!вот кажется недавно было 11\\nВремя- …</td>\n",
       "      <td>-1</td>\n",
       "    </tr>\n",
       "    <tr>\n",
       "      <th>141403</th>\n",
       "      <td>RT @leaving_to_Omsk: жизнь моя удалась, я так считать склонен</td>\n",
       "      <td>-1</td>\n",
       "    </tr>\n",
       "    <tr>\n",
       "      <th>195339</th>\n",
       "      <td>RT @MoonlyGirl: 6789 гет я посвящаю @Castiel_is_God_ @faith_in_us @exhale_it @BlackCat632007 @maryshannnon @_Do_or_Die__  счастья вам с: &amp;lt;з</td>\n",
       "      <td>-1</td>\n",
       "    </tr>\n",
       "    <tr>\n",
       "      <th>221078</th>\n",
       "      <td>RT @Euphoria_o_o: УУУУУУУУУУУУУУУ РЕБЯТАААААААААААА С НОООООВЫЫЫЫММ!!!!!</td>\n",
       "      <td>-1</td>\n",
       "    </tr>\n",
       "    <tr>\n",
       "      <th>205371</th>\n",
       "      <td>RT @FedoseevaO_o: уняня :3 http://t.co/34RDH3arNb</td>\n",
       "      <td>-1</td>\n",
       "    </tr>\n",
       "    <tr>\n",
       "      <th>138431</th>\n",
       "      <td>RT @IEROWAYBJA: @Molko_od в ленте почти все о аниме заговорили.\\nя ж не про всех имел ввиду,а тех кто начал писать^^</td>\n",
       "      <td>-1</td>\n",
       "    </tr>\n",
       "    <tr>\n",
       "      <th>38180</th>\n",
       "      <td>тихотихо, осторожно встать с кровати и не разбудить мою принцессу. Поцелую..а ведь так сладко спит:*</td>\n",
       "      <td>1</td>\n",
       "    </tr>\n",
       "    <tr>\n",
       "      <th>160398</th>\n",
       "      <td>@Do_Or_Die_xxx  фаршик, приглашаю тебя на мою свадьбу. Сегодня в 20:00 по мск. Буду рад видеть:333</td>\n",
       "      <td>-1</td>\n",
       "    </tr>\n",
       "    <tr>\n",
       "      <th>179348</th>\n",
       "      <td>и мы любовались @AlikO_o , такая хорошая :3</td>\n",
       "      <td>-1</td>\n",
       "    </tr>\n",
       "    <tr>\n",
       "      <th>177482</th>\n",
       "      <td>RT @StarSreamO_o: Охохохох с рождеством ребята</td>\n",
       "      <td>-1</td>\n",
       "    </tr>\n",
       "    <tr>\n",
       "      <th>183050</th>\n",
       "      <td>RT @to_over_kill: @mywhisper ооо, молодец с: поздравляю с:</td>\n",
       "      <td>-1</td>\n",
       "    </tr>\n",
       "    <tr>\n",
       "      <th>220545</th>\n",
       "      <td>@Odo_Odko Ямар гоё зураг вэ. Хаврын баярт модел хийгээ юу?</td>\n",
       "      <td>-1</td>\n",
       "    </tr>\n",
       "    <tr>\n",
       "      <th>205191</th>\n",
       "      <td>@mamO_Oru вангую для тебя с:\\n-карие\\n-черные\\n-аниме\\n-15-16\\nОБОЖАЮ АНИМЕ*_*\\n*ПОТЕКЛИ СЛЮНИ*\\n^^</td>\n",
       "      <td>-1</td>\n",
       "    </tr>\n",
       "    <tr>\n",
       "      <th>225244</th>\n",
       "      <td>@o_OLETO классно с::\\nА какие фильмы там щас идут?с:</td>\n",
       "      <td>-1</td>\n",
       "    </tr>\n",
       "    <tr>\n",
       "      <th>144366</th>\n",
       "      <td>RT @july_to_october: Пацан написал в тетради по ОБЖ \"не бейте, лучше обоссыте\"\\nХотел проверить училку, читает ли она работы\\nПоставила ему д…</td>\n",
       "      <td>-1</td>\n",
       "    </tr>\n",
       "    <tr>\n",
       "      <th>146997</th>\n",
       "      <td>RT @Tipical_Horan: @myprideforyou @LenochkaMalik @TWERK_DEMI  @_lola_302 @NikaElounorn007 @danko_oo  @Lena_Valuevich \\nВЫЗДОРАВЛИВАЙТЕ*** ht…</td>\n",
       "      <td>-1</td>\n",
       "    </tr>\n",
       "    <tr>\n",
       "      <th>196744</th>\n",
       "      <td>@Paket_pohoti @sO_opaman @virocracy @Before10am @Elvina_Zee @el_mario_che @2Nosoroga Птм в боню пойдем после катка? https://t.co/qYPK0iJu3u</td>\n",
       "      <td>-1</td>\n",
       "    </tr>\n",
       "    <tr>\n",
       "      <th>192214</th>\n",
       "      <td>@OlesyaO_o Евгений Владимирович,и Евгения Валерьевна нахуй,хахахаха</td>\n",
       "      <td>-1</td>\n",
       "    </tr>\n",
       "    <tr>\n",
       "      <th>117777</th>\n",
       "      <td>RT @holly_wo_od: это было быстро просто и понятно ахазахах #MTVStars Justin Bieber</td>\n",
       "      <td>-1</td>\n",
       "    </tr>\n",
       "    <tr>\n",
       "      <th>178134</th>\n",
       "      <td>@ooLo_oLo мне всегда камаро нравились, выглядит классно</td>\n",
       "      <td>-1</td>\n",
       "    </tr>\n",
       "    <tr>\n",
       "      <th>212976</th>\n",
       "      <td>О боже \\nАлина была очень упрт\\nГоворили же ей, не надо зеленые булки жратьo_O</td>\n",
       "      <td>-1</td>\n",
       "    </tr>\n",
       "    <tr>\n",
       "      <th>139194</th>\n",
       "      <td>Если допустить, что мультик и правда основан на сказке \"Снежная Королева\". То она и Королева и Кай в одном лице.. о_О http://t.co/i6V0g4U6wI</td>\n",
       "      <td>-1</td>\n",
       "    </tr>\n",
       "    <tr>\n",
       "      <th>176178</th>\n",
       "      <td>@Heaven_Time @NO_ONE_Edition Я наведу вам во фляжке ВВП, оба зассыте.</td>\n",
       "      <td>-1</td>\n",
       "    </tr>\n",
       "    <tr>\n",
       "      <th>191578</th>\n",
       "      <td>@MashkaMashkaO_o говорит человек любящий Европу</td>\n",
       "      <td>-1</td>\n",
       "    </tr>\n",
       "    <tr>\n",
       "      <th>124491</th>\n",
       "      <td>Приїхали ;( “@euromaidan: Из Украины выселяют грузинских журналистов. #Євромайдан #Евромайдан #Euromaidan #Україна”</td>\n",
       "      <td>-1</td>\n",
       "    </tr>\n",
       "    <tr>\n",
       "      <th>124846</th>\n",
       "      <td>RT @TimoTravis: Некогда объяснять, просто спасибо @NO_ONE_Edition</td>\n",
       "      <td>-1</td>\n",
       "    </tr>\n",
       "  </tbody>\n",
       "</table>\n",
       "<p>170 rows × 2 columns</p>\n",
       "</div>"
      ],
      "text/plain": [
       "                                                                                                                                                     ttext  ttype\n",
       "179984                                                                  RT @pro_o_pro: Константин дразнит Олю http://t.co/Ewl4oj8tby #новости #Селигер2013     -1\n",
       "133855                                                                                               RT @Lehailigde: Снег крадут=*( http://t.co/4cNBQ21qbY     -1\n",
       "158686                                                                    Ахаха! Дибилы бесите со своими концами...света! }:-/ каждый второй статус ёб...!     -1\n",
       "212858                                        RT @Hi_natasha_: #МолСовет БВ на #СеребрянаяНить @vp1101156 @id_karo_o @aleksey_perec http://t.co/d15rAwxBWt     -1\n",
       "132787                                                                                    RT @antje_O_o: работница месяца @tbushmel http://t.co/PEz2HRCLVI     -1\n",
       "212448                                                                                 RT @orko_ori: #драйвер для usb texet скачать http://t.co/WuBV0kOJTy     -1\n",
       "191900                                                                                            RT @jared_na_marse: Опаньки\\n о_О http://t.co/1USmPFiFrt     -1\n",
       "185252                                                                             RT @leaving_to_Omsk: завтра будет голди хастл пати ин да канищево гетто     -1\n",
       "160917                                   @blchk434 наверное,но мне кажется,когда мы были на прошлых Диксах,ты про нее спросила о_О ну да ладно,не важно ХД     -1\n",
       "198835                                                                                                   @zO_Om это по какой шкале? По нашей или по ихней?     -1\n",
       "7239                                                                        настроения нет.я умею его портить себе и другим...надеюсь у него все хорошо.:*      1\n",
       "139947                     RT @kota_Oo_oO: @astral69_ шазалуосщвоузплвов *0* я так буду рад,просто счастлиииииив,буду летать по дому и орать от счастья*-*     -1\n",
       "89993                                                                                   уже жду каникул и праздников\\nс нетерпением  :З\\nхочу отдохнуть :*      1\n",
       "186139                                                                                                     RT @little_bird_o_o: @Nastya_Attwood спасибо с:     -1\n",
       "133906                                                                            С @VerO_okK в одной машине сегодня катаемся! :33 Инструктор, берегииись!     -1\n",
       "212488                                                                                                     @YOOOOOOOO_OOOOO спокооооооооооооооооооойной ^^     -1\n",
       "134107                                                                                                 RT @kota_Oo_oO: @graanatik awwww обнимаааашкиии *0*     -1\n",
       "115517          RT @palizofyput: Открываю документацию на фреймворк kohana. Сразу в глаза бросается заголовок: «Эта документация — г*вно!» о_О Переключаюс     -1\n",
       "181585                                                                                                   @euromaidan удачи вам:-!парубки мы #USA с вами:-!     -1\n",
       "72978                                                                 блин, снова вспоминаю родную @meow_murr_meow  ... как же мне без нее трудно:* скучаю      1\n",
       "130518                                          @kota_Oo_oO\\nHiiiii. Привет,мой новый читатель с азуенным юном. Добра,няшек и много много упоротости тебе.     -1\n",
       "173297                                                                                                        RT @to_over_kill: @unicorn28601 спасиибо *-*     -1\n",
       "181034                                                                        RT @Higway_To_Hell: @kota_Oo_oO спасибо, милый с: тебя тоже с наступающим о/     -1\n",
       "221884     @69directioon69 Ууу,ну хорошо,мой пупс.хх\\nАхаха, пупс?Что я несу?\\nЯ несу людям добро!Ихихи\\nВсе,мне проду пора спать.. :| я как всегда упорот     -1\n",
       "159372                                                                    RT @fo_ogrodary: - Можно мне 140 грамм кокаина?\\n- Почему 140?\\n- Я твиттерская.     -1\n",
       "222657                                                               @SerovaKira @KatyaTweetcorn_ кир ты ещё бы сказала  всему миру что я делаю ванной =*(     -1\n",
       "125631  RT @anstation: #ХочуПровестиНовогоднююНочьВместеС : \\n@EliaNagaeva \\n@Multiashka \\n@I_love_nigers \\n@Katya_Emelina \\n@ian_my__love \\n@kota_Oo_oO …     -1\n",
       "80134                                                                                         Я же просто самочка атаз, куча парней вокруг критится &gt;;)      1\n",
       "224407                                                                                 @Normalno_O потом Свете говоришь, ты бы еще голая сфотолась хахахах     -1\n",
       "210931                      RT @seno_oppai: учителю в контакте плохо  в друзья добавился весь класс  ни голых баб теперь на стенке ни завуч сука в статусе     -1\n",
       "...                                                                                                                                                    ...    ...\n",
       "217015                                                      RT @bezzubikovao_o: Сегодня день группы \"The Beatles\"\\n#TheBeatles\\nJohn Lennon- yesterday #np     -1\n",
       "135288                 RT @Dreaamm75: #євромайдан #euromaidan #Ukraine #евромайдан Жителям Крима - что ваших сыновей ждет в рассии( http://t.co/LUBO4WySm6     -1\n",
       "193847                       @ozo_om и ,кстати, сначала мне тем более так не показалось.. он не показал и виду ,что у него кто-то есть. Так что..я чиста:3     -1\n",
       "159237                                                                         RT @0630_alien: @Chikatilo_o62o и действительно ведь http://t.co/bLIl8ErRSS     -1\n",
       "188368     RT @Dreamerko_O: Вы только представьте, сейчас нам 14\\nА уже через несколько месяцев 15!!\\n15 черт возьми!вот кажется недавно было 11\\nВремя- …     -1\n",
       "141403                                                                                       RT @leaving_to_Omsk: жизнь моя удалась, я так считать склонен     -1\n",
       "195339      RT @MoonlyGirl: 6789 гет я посвящаю @Castiel_is_God_ @faith_in_us @exhale_it @BlackCat632007 @maryshannnon @_Do_or_Die__  счастья вам с: &lt;з     -1\n",
       "221078                                                                            RT @Euphoria_o_o: УУУУУУУУУУУУУУУ РЕБЯТАААААААААААА С НОООООВЫЫЫЫММ!!!!!     -1\n",
       "205371                                                                                                   RT @FedoseevaO_o: уняня :3 http://t.co/34RDH3arNb     -1\n",
       "138431                                RT @IEROWAYBJA: @Molko_od в ленте почти все о аниме заговорили.\\nя ж не про всех имел ввиду,а тех кто начал писать^^     -1\n",
       "38180                                                 тихотихо, осторожно встать с кровати и не разбудить мою принцессу. Поцелую..а ведь так сладко спит:*      1\n",
       "160398                                                  @Do_Or_Die_xxx  фаршик, приглашаю тебя на мою свадьбу. Сегодня в 20:00 по мск. Буду рад видеть:333     -1\n",
       "179348                                                                                                         и мы любовались @AlikO_o , такая хорошая :3     -1\n",
       "177482                                                                                                      RT @StarSreamO_o: Охохохох с рождеством ребята     -1\n",
       "183050                                                                                          RT @to_over_kill: @mywhisper ооо, молодец с: поздравляю с:     -1\n",
       "220545                                                                                          @Odo_Odko Ямар гоё зураг вэ. Хаврын баярт модел хийгээ юу?     -1\n",
       "205191                                                 @mamO_Oru вангую для тебя с:\\n-карие\\n-черные\\n-аниме\\n-15-16\\nОБОЖАЮ АНИМЕ*_*\\n*ПОТЕКЛИ СЛЮНИ*\\n^^     -1\n",
       "225244                                                                                                @o_OLETO классно с::\\nА какие фильмы там щас идут?с:     -1\n",
       "144366      RT @july_to_october: Пацан написал в тетради по ОБЖ \"не бейте, лучше обоссыте\"\\nХотел проверить училку, читает ли она работы\\nПоставила ему д…     -1\n",
       "146997       RT @Tipical_Horan: @myprideforyou @LenochkaMalik @TWERK_DEMI  @_lola_302 @NikaElounorn007 @danko_oo  @Lena_Valuevich \\nВЫЗДОРАВЛИВАЙТЕ*** ht…     -1\n",
       "196744         @Paket_pohoti @sO_opaman @virocracy @Before10am @Elvina_Zee @el_mario_che @2Nosoroga Птм в боню пойдем после катка? https://t.co/qYPK0iJu3u     -1\n",
       "192214                                                                                 @OlesyaO_o Евгений Владимирович,и Евгения Валерьевна нахуй,хахахаха     -1\n",
       "117777                                                                  RT @holly_wo_od: это было быстро просто и понятно ахазахах #MTVStars Justin Bieber     -1\n",
       "178134                                                                                             @ooLo_oLo мне всегда камаро нравились, выглядит классно     -1\n",
       "212976                                                                      О боже \\nАлина была очень упрт\\nГоворили же ей, не надо зеленые булки жратьo_O     -1\n",
       "139194        Если допустить, что мультик и правда основан на сказке \"Снежная Королева\". То она и Королева и Кай в одном лице.. о_О http://t.co/i6V0g4U6wI     -1\n",
       "176178                                                                               @Heaven_Time @NO_ONE_Edition Я наведу вам во фляжке ВВП, оба зассыте.     -1\n",
       "191578                                                                                                     @MashkaMashkaO_o говорит человек любящий Европу     -1\n",
       "124491                                 Приїхали ;( “@euromaidan: Из Украины выселяют грузинских журналистов. #Євромайдан #Евромайдан #Euromaidan #Україна”     -1\n",
       "124846                                                                                   RT @TimoTravis: Некогда объяснять, просто спасибо @NO_ONE_Edition     -1\n",
       "\n",
       "[170 rows x 2 columns]"
      ]
     },
     "execution_count": 51,
     "metadata": {},
     "output_type": "execute_result"
    }
   ],
   "source": [
    "pd.set_option('display.max_colwidth', 1000)\n",
    "val_data[val_data[sentcolumn]!= predicted][[textcolumn, sentcolumn]]"
   ]
  },
  {
   "cell_type": "markdown",
   "metadata": {},
   "source": [
    "### re split w+"
   ]
  },
  {
   "cell_type": "code",
   "execution_count": 33,
   "metadata": {},
   "outputs": [
    {
     "name": "stdout",
     "output_type": "stream",
     "text": [
      "             precision    recall  f1-score   support\n",
      "\n",
      "         -1       0.97      0.95      0.96     17858\n",
      "          1       0.95      0.97      0.96     18436\n",
      "\n",
      "avg / total       0.96      0.96      0.96     36294\n",
      "\n"
     ]
    },
    {
     "data": {
      "text/plain": [
       "array([[16876,   982],\n",
       "       [  475, 17961]])"
      ]
     },
     "execution_count": 33,
     "metadata": {},
     "output_type": "execute_result"
    }
   ],
   "source": [
    "import re\n",
    "def getWords(s):\n",
    "    \n",
    "    return [word.lower() for word in re.split(r\"\\w+\", s)]\n",
    "    \n",
    "text_clf = sklearn.pipeline.Pipeline([('vect', \n",
    "                                       sklearn.feature_extraction.text.CountVectorizer(min_df=5, max_df=0.75,\n",
    "                                      tokenizer=lambda s: getWords(s))),\n",
    "                     ('clf', sklearn.naive_bayes.MultinomialNB())])\n",
    "getconfmatrix(text_clf, train_data, val_data)"
   ]
  },
  {
   "cell_type": "code",
   "execution_count": null,
   "metadata": {
    "collapsed": true
   },
   "outputs": [],
   "source": []
  }
 ],
 "metadata": {
  "anaconda-cloud": {},
  "kernelspec": {
   "display_name": "Python 3",
   "language": "python",
   "name": "python3"
  },
  "language_info": {
   "codemirror_mode": {
    "name": "ipython",
    "version": 3
   },
   "file_extension": ".py",
   "mimetype": "text/x-python",
   "name": "python",
   "nbconvert_exporter": "python",
   "pygments_lexer": "ipython3",
   "version": "3.6.1"
  }
 },
 "nbformat": 4,
 "nbformat_minor": 1
}
